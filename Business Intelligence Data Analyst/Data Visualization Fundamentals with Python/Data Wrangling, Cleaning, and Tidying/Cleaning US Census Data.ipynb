{
 "cells": [
  {
   "cell_type": "markdown",
   "metadata": {},
   "source": [
    "# Cleaning US Census Data"
   ]
  },
  {
   "cell_type": "markdown",
   "metadata": {},
   "source": [
    "You just got hired as a Data Analyst at the Census Bureau, which collects census data and creates interesting visualizations and insights from it.\n",
    "\n",
    "The person who had your job before you left you all the data they had for the most recent census. It is in multiple `csv` files. They didn't use pandas, they would just look through these `csv` files manually whenever they wanted to find something. Sometimes they would copy and paste certain numbers into Excel to make charts.\n",
    "\n",
    "The thought of it makes you shiver. This is not scalable or repeatable.\n",
    "\n",
    "Your boss wants you to make some scatterplots and histograms by the end of the day. Can you get this data into `pandas` and into reasonable shape so that you can make these histograms?"
   ]
  },
  {
   "cell_type": "markdown",
   "metadata": {},
   "source": [
    "## Inspect the Data!"
   ]
  },
  {
   "cell_type": "markdown",
   "metadata": {},
   "source": [
    "1. The first visualization your boss wants you to make is a scatterplot that shows average income in a state vs proportion of women in that state.\n",
    "\n",
    "   Open some of the census `csv` files that came with the kit you downloaded. How are they named? What kind of information do they hold? Will they help us make this graph?"
   ]
  },
  {
   "cell_type": "code",
   "execution_count": 1,
   "metadata": {},
   "outputs": [],
   "source": [
    "# Learned this in one of the previous lessons, so I wanted to implement it.\n",
    "# glob basically finds all the names along with the extension that we specify.\n",
    "import glob\n",
    "import pandas as pd\n",
    "\n",
    "files = glob.glob(\"states*.csv\") # Getting all csv the names\n",
    "\n",
    "df_list = []\n",
    "for file in files:\n",
    "    df_list.append(pd.read_csv(file)) # Reading the csv in pandas and adding them to df_list, so we can have all\n",
    "    # the files in the same table\n",
    "df = pd.concat(df_list) # we concatinate the python list\n",
    "\n",
    "# Apparently this supposed to be the next step... "
   ]
  },
  {
   "cell_type": "markdown",
   "metadata": {},
   "source": [
    "2. It will be easier to inspect this data once we have it in a DataFrame. You can't even call `.head()` on these `csv`s! How are you supposed to read them?\n",
    "\n",
    "   Using `glob`, loop through the census files available and load them into DataFrames. Then, concatenate all of those DataFrames together into one DataFrame, called something like `us_census`."
   ]
  },
  {
   "cell_type": "code",
   "execution_count": 2,
   "metadata": {},
   "outputs": [],
   "source": [
    "import matplotlib.pyplot as plt"
   ]
  },
  {
   "cell_type": "markdown",
   "metadata": {},
   "source": [
    "3. Look at the `.columns` and the `.dtypes` of the `us_census` DataFrame. Are those datatypes going to hinder you as you try to make histograms?"
   ]
  },
  {
   "cell_type": "code",
   "execution_count": 3,
   "metadata": {},
   "outputs": [
    {
     "data": {
      "text/plain": [
       "Unnamed: 0     int64\n",
       "State         object\n",
       "TotalPop       int64\n",
       "Hispanic      object\n",
       "White         object\n",
       "Black         object\n",
       "Native        object\n",
       "Asian         object\n",
       "Pacific       object\n",
       "Income        object\n",
       "GenderPop     object\n",
       "dtype: object"
      ]
     },
     "execution_count": 3,
     "metadata": {},
     "output_type": "execute_result"
    }
   ],
   "source": [
    "df.dtypes"
   ]
  },
  {
   "cell_type": "markdown",
   "metadata": {},
   "source": [
    "4. Look at the `head()` of the DataFrame so that you can understand why some of these `dtypes` are objects instead of integers or floats.\n",
    "\n",
    "   Start to make a plan for how to convert these columns into the right types for manipulation."
   ]
  },
  {
   "cell_type": "code",
   "execution_count": 4,
   "metadata": {},
   "outputs": [
    {
     "data": {
      "text/html": [
       "<div>\n",
       "<style scoped>\n",
       "    .dataframe tbody tr th:only-of-type {\n",
       "        vertical-align: middle;\n",
       "    }\n",
       "\n",
       "    .dataframe tbody tr th {\n",
       "        vertical-align: top;\n",
       "    }\n",
       "\n",
       "    .dataframe thead th {\n",
       "        text-align: right;\n",
       "    }\n",
       "</style>\n",
       "<table border=\"1\" class=\"dataframe\">\n",
       "  <thead>\n",
       "    <tr style=\"text-align: right;\">\n",
       "      <th></th>\n",
       "      <th>Unnamed: 0</th>\n",
       "      <th>State</th>\n",
       "      <th>TotalPop</th>\n",
       "      <th>Hispanic</th>\n",
       "      <th>White</th>\n",
       "      <th>Black</th>\n",
       "      <th>Native</th>\n",
       "      <th>Asian</th>\n",
       "      <th>Pacific</th>\n",
       "      <th>Income</th>\n",
       "      <th>GenderPop</th>\n",
       "    </tr>\n",
       "  </thead>\n",
       "  <tbody>\n",
       "    <tr>\n",
       "      <th>0</th>\n",
       "      <td>0</td>\n",
       "      <td>Missouri</td>\n",
       "      <td>6045448</td>\n",
       "      <td>4.04%</td>\n",
       "      <td>77.51%</td>\n",
       "      <td>14.12%</td>\n",
       "      <td>0.36%</td>\n",
       "      <td>1.62%</td>\n",
       "      <td>0.10%</td>\n",
       "      <td>$49,763.99</td>\n",
       "      <td>2964003M_3081445F</td>\n",
       "    </tr>\n",
       "    <tr>\n",
       "      <th>1</th>\n",
       "      <td>1</td>\n",
       "      <td>Montana</td>\n",
       "      <td>1014699</td>\n",
       "      <td>3.27%</td>\n",
       "      <td>86.42%</td>\n",
       "      <td>0.43%</td>\n",
       "      <td>7.06%</td>\n",
       "      <td>0.57%</td>\n",
       "      <td>0.07%</td>\n",
       "      <td>$47,645.68</td>\n",
       "      <td>510163M_F</td>\n",
       "    </tr>\n",
       "    <tr>\n",
       "      <th>2</th>\n",
       "      <td>2</td>\n",
       "      <td>Nebraska</td>\n",
       "      <td>1869365</td>\n",
       "      <td>9.20%</td>\n",
       "      <td>81.14%</td>\n",
       "      <td>4.96%</td>\n",
       "      <td>0.86%</td>\n",
       "      <td>1.86%</td>\n",
       "      <td>0.06%</td>\n",
       "      <td>$55,916.47</td>\n",
       "      <td>929606M_939759F</td>\n",
       "    </tr>\n",
       "    <tr>\n",
       "      <th>3</th>\n",
       "      <td>3</td>\n",
       "      <td>Nevada</td>\n",
       "      <td>2798636</td>\n",
       "      <td>27.10%</td>\n",
       "      <td>53.24%</td>\n",
       "      <td>7.74%</td>\n",
       "      <td>1.09%</td>\n",
       "      <td>7.10%</td>\n",
       "      <td>0.57%</td>\n",
       "      <td>$55,526.53</td>\n",
       "      <td>1407735M_1390901F</td>\n",
       "    </tr>\n",
       "    <tr>\n",
       "      <th>4</th>\n",
       "      <td>4</td>\n",
       "      <td>New Hampshire</td>\n",
       "      <td>1324201</td>\n",
       "      <td>3.32%</td>\n",
       "      <td>91.32%</td>\n",
       "      <td>1.23%</td>\n",
       "      <td>0.14%</td>\n",
       "      <td>2.19%</td>\n",
       "      <td>0.02%</td>\n",
       "      <td>$68,728.86</td>\n",
       "      <td>653484M_670717F</td>\n",
       "    </tr>\n",
       "  </tbody>\n",
       "</table>\n",
       "</div>"
      ],
      "text/plain": [
       "   Unnamed: 0          State  TotalPop Hispanic   White   Black Native  Asian  \\\n",
       "0           0       Missouri   6045448    4.04%  77.51%  14.12%  0.36%  1.62%   \n",
       "1           1        Montana   1014699    3.27%  86.42%   0.43%  7.06%  0.57%   \n",
       "2           2       Nebraska   1869365    9.20%  81.14%   4.96%  0.86%  1.86%   \n",
       "3           3         Nevada   2798636   27.10%  53.24%   7.74%  1.09%  7.10%   \n",
       "4           4  New Hampshire   1324201    3.32%  91.32%   1.23%  0.14%  2.19%   \n",
       "\n",
       "  Pacific       Income          GenderPop  \n",
       "0   0.10%  $49,763.99   2964003M_3081445F  \n",
       "1   0.07%  $47,645.68           510163M_F  \n",
       "2   0.06%  $55,916.47     929606M_939759F  \n",
       "3   0.57%  $55,526.53   1407735M_1390901F  \n",
       "4   0.02%  $68,728.86     653484M_670717F  "
      ]
     },
     "execution_count": 4,
     "metadata": {},
     "output_type": "execute_result"
    }
   ],
   "source": [
    "df.head()"
   ]
  },
  {
   "cell_type": "markdown",
   "metadata": {},
   "source": [
    "## Regex to the Rescue"
   ]
  },
  {
   "cell_type": "markdown",
   "metadata": {},
   "source": [
    "5. Use regex to turn the `Income` column into a format that is ready for conversion into a numerical type."
   ]
  },
  {
   "cell_type": "code",
   "execution_count": 5,
   "metadata": {},
   "outputs": [
    {
     "data": {
      "text/html": [
       "<div>\n",
       "<style scoped>\n",
       "    .dataframe tbody tr th:only-of-type {\n",
       "        vertical-align: middle;\n",
       "    }\n",
       "\n",
       "    .dataframe tbody tr th {\n",
       "        vertical-align: top;\n",
       "    }\n",
       "\n",
       "    .dataframe thead th {\n",
       "        text-align: right;\n",
       "    }\n",
       "</style>\n",
       "<table border=\"1\" class=\"dataframe\">\n",
       "  <thead>\n",
       "    <tr style=\"text-align: right;\">\n",
       "      <th></th>\n",
       "      <th>Unnamed: 0</th>\n",
       "      <th>State</th>\n",
       "      <th>TotalPop</th>\n",
       "      <th>Hispanic</th>\n",
       "      <th>White</th>\n",
       "      <th>Black</th>\n",
       "      <th>Native</th>\n",
       "      <th>Asian</th>\n",
       "      <th>Pacific</th>\n",
       "      <th>Income</th>\n",
       "      <th>GenderPop</th>\n",
       "    </tr>\n",
       "  </thead>\n",
       "  <tbody>\n",
       "    <tr>\n",
       "      <th>0</th>\n",
       "      <td>0</td>\n",
       "      <td>Missouri</td>\n",
       "      <td>6045448</td>\n",
       "      <td>4.04%</td>\n",
       "      <td>77.51%</td>\n",
       "      <td>14.12%</td>\n",
       "      <td>0.36%</td>\n",
       "      <td>1.62%</td>\n",
       "      <td>0.10%</td>\n",
       "      <td>4976399</td>\n",
       "      <td>2964003M_3081445F</td>\n",
       "    </tr>\n",
       "    <tr>\n",
       "      <th>1</th>\n",
       "      <td>1</td>\n",
       "      <td>Montana</td>\n",
       "      <td>1014699</td>\n",
       "      <td>3.27%</td>\n",
       "      <td>86.42%</td>\n",
       "      <td>0.43%</td>\n",
       "      <td>7.06%</td>\n",
       "      <td>0.57%</td>\n",
       "      <td>0.07%</td>\n",
       "      <td>4764568</td>\n",
       "      <td>510163M_F</td>\n",
       "    </tr>\n",
       "    <tr>\n",
       "      <th>2</th>\n",
       "      <td>2</td>\n",
       "      <td>Nebraska</td>\n",
       "      <td>1869365</td>\n",
       "      <td>9.20%</td>\n",
       "      <td>81.14%</td>\n",
       "      <td>4.96%</td>\n",
       "      <td>0.86%</td>\n",
       "      <td>1.86%</td>\n",
       "      <td>0.06%</td>\n",
       "      <td>5591647</td>\n",
       "      <td>929606M_939759F</td>\n",
       "    </tr>\n",
       "    <tr>\n",
       "      <th>3</th>\n",
       "      <td>3</td>\n",
       "      <td>Nevada</td>\n",
       "      <td>2798636</td>\n",
       "      <td>27.10%</td>\n",
       "      <td>53.24%</td>\n",
       "      <td>7.74%</td>\n",
       "      <td>1.09%</td>\n",
       "      <td>7.10%</td>\n",
       "      <td>0.57%</td>\n",
       "      <td>5552653</td>\n",
       "      <td>1407735M_1390901F</td>\n",
       "    </tr>\n",
       "    <tr>\n",
       "      <th>4</th>\n",
       "      <td>4</td>\n",
       "      <td>New Hampshire</td>\n",
       "      <td>1324201</td>\n",
       "      <td>3.32%</td>\n",
       "      <td>91.32%</td>\n",
       "      <td>1.23%</td>\n",
       "      <td>0.14%</td>\n",
       "      <td>2.19%</td>\n",
       "      <td>0.02%</td>\n",
       "      <td>6872886</td>\n",
       "      <td>653484M_670717F</td>\n",
       "    </tr>\n",
       "  </tbody>\n",
       "</table>\n",
       "</div>"
      ],
      "text/plain": [
       "   Unnamed: 0          State  TotalPop Hispanic   White   Black Native  Asian  \\\n",
       "0           0       Missouri   6045448    4.04%  77.51%  14.12%  0.36%  1.62%   \n",
       "1           1        Montana   1014699    3.27%  86.42%   0.43%  7.06%  0.57%   \n",
       "2           2       Nebraska   1869365    9.20%  81.14%   4.96%  0.86%  1.86%   \n",
       "3           3         Nevada   2798636   27.10%  53.24%   7.74%  1.09%  7.10%   \n",
       "4           4  New Hampshire   1324201    3.32%  91.32%   1.23%  0.14%  2.19%   \n",
       "\n",
       "  Pacific   Income          GenderPop  \n",
       "0   0.10%  4976399  2964003M_3081445F  \n",
       "1   0.07%  4764568          510163M_F  \n",
       "2   0.06%  5591647    929606M_939759F  \n",
       "3   0.57%  5552653  1407735M_1390901F  \n",
       "4   0.02%  6872886    653484M_670717F  "
      ]
     },
     "execution_count": 5,
     "metadata": {},
     "output_type": "execute_result"
    }
   ],
   "source": [
    "import re\n",
    "df['Income'] = df.Income.replace('[\\D]', '', regex=True) # Replacing everything that is not a Digit\n",
    "df['Income'] = pd.to_numeric(df.Income)\n",
    "df.head()"
   ]
  },
  {
   "cell_type": "markdown",
   "metadata": {},
   "source": [
    "6. Look at the `GenderPop` column. We are going to want to separate this into two columns, the `Men` column, and the `Women` column.\n",
    "\n",
    "   Split the column into those two new columns using `str.split` and separating out those results."
   ]
  },
  {
   "cell_type": "code",
   "execution_count": 6,
   "metadata": {},
   "outputs": [
    {
     "data": {
      "text/html": [
       "<div>\n",
       "<style scoped>\n",
       "    .dataframe tbody tr th:only-of-type {\n",
       "        vertical-align: middle;\n",
       "    }\n",
       "\n",
       "    .dataframe tbody tr th {\n",
       "        vertical-align: top;\n",
       "    }\n",
       "\n",
       "    .dataframe thead th {\n",
       "        text-align: right;\n",
       "    }\n",
       "</style>\n",
       "<table border=\"1\" class=\"dataframe\">\n",
       "  <thead>\n",
       "    <tr style=\"text-align: right;\">\n",
       "      <th></th>\n",
       "      <th>Unnamed: 0</th>\n",
       "      <th>State</th>\n",
       "      <th>TotalPop</th>\n",
       "      <th>Hispanic</th>\n",
       "      <th>White</th>\n",
       "      <th>Black</th>\n",
       "      <th>Native</th>\n",
       "      <th>Asian</th>\n",
       "      <th>Pacific</th>\n",
       "      <th>Income</th>\n",
       "      <th>GenderPop</th>\n",
       "      <th>Men</th>\n",
       "      <th>Female</th>\n",
       "    </tr>\n",
       "  </thead>\n",
       "  <tbody>\n",
       "    <tr>\n",
       "      <th>0</th>\n",
       "      <td>0</td>\n",
       "      <td>Missouri</td>\n",
       "      <td>6045448</td>\n",
       "      <td>4.04%</td>\n",
       "      <td>77.51%</td>\n",
       "      <td>14.12%</td>\n",
       "      <td>0.36%</td>\n",
       "      <td>1.62%</td>\n",
       "      <td>0.10%</td>\n",
       "      <td>4976399</td>\n",
       "      <td>2964003M_3081445F</td>\n",
       "      <td>2964003M</td>\n",
       "      <td>3081445F</td>\n",
       "    </tr>\n",
       "    <tr>\n",
       "      <th>1</th>\n",
       "      <td>1</td>\n",
       "      <td>Montana</td>\n",
       "      <td>1014699</td>\n",
       "      <td>3.27%</td>\n",
       "      <td>86.42%</td>\n",
       "      <td>0.43%</td>\n",
       "      <td>7.06%</td>\n",
       "      <td>0.57%</td>\n",
       "      <td>0.07%</td>\n",
       "      <td>4764568</td>\n",
       "      <td>510163M_F</td>\n",
       "      <td>510163M</td>\n",
       "      <td>F</td>\n",
       "    </tr>\n",
       "    <tr>\n",
       "      <th>2</th>\n",
       "      <td>2</td>\n",
       "      <td>Nebraska</td>\n",
       "      <td>1869365</td>\n",
       "      <td>9.20%</td>\n",
       "      <td>81.14%</td>\n",
       "      <td>4.96%</td>\n",
       "      <td>0.86%</td>\n",
       "      <td>1.86%</td>\n",
       "      <td>0.06%</td>\n",
       "      <td>5591647</td>\n",
       "      <td>929606M_939759F</td>\n",
       "      <td>929606M</td>\n",
       "      <td>939759F</td>\n",
       "    </tr>\n",
       "    <tr>\n",
       "      <th>3</th>\n",
       "      <td>3</td>\n",
       "      <td>Nevada</td>\n",
       "      <td>2798636</td>\n",
       "      <td>27.10%</td>\n",
       "      <td>53.24%</td>\n",
       "      <td>7.74%</td>\n",
       "      <td>1.09%</td>\n",
       "      <td>7.10%</td>\n",
       "      <td>0.57%</td>\n",
       "      <td>5552653</td>\n",
       "      <td>1407735M_1390901F</td>\n",
       "      <td>1407735M</td>\n",
       "      <td>1390901F</td>\n",
       "    </tr>\n",
       "    <tr>\n",
       "      <th>4</th>\n",
       "      <td>4</td>\n",
       "      <td>New Hampshire</td>\n",
       "      <td>1324201</td>\n",
       "      <td>3.32%</td>\n",
       "      <td>91.32%</td>\n",
       "      <td>1.23%</td>\n",
       "      <td>0.14%</td>\n",
       "      <td>2.19%</td>\n",
       "      <td>0.02%</td>\n",
       "      <td>6872886</td>\n",
       "      <td>653484M_670717F</td>\n",
       "      <td>653484M</td>\n",
       "      <td>670717F</td>\n",
       "    </tr>\n",
       "  </tbody>\n",
       "</table>\n",
       "</div>"
      ],
      "text/plain": [
       "   Unnamed: 0          State  TotalPop Hispanic   White   Black Native  Asian  \\\n",
       "0           0       Missouri   6045448    4.04%  77.51%  14.12%  0.36%  1.62%   \n",
       "1           1        Montana   1014699    3.27%  86.42%   0.43%  7.06%  0.57%   \n",
       "2           2       Nebraska   1869365    9.20%  81.14%   4.96%  0.86%  1.86%   \n",
       "3           3         Nevada   2798636   27.10%  53.24%   7.74%  1.09%  7.10%   \n",
       "4           4  New Hampshire   1324201    3.32%  91.32%   1.23%  0.14%  2.19%   \n",
       "\n",
       "  Pacific   Income          GenderPop       Men    Female  \n",
       "0   0.10%  4976399  2964003M_3081445F  2964003M  3081445F  \n",
       "1   0.07%  4764568          510163M_F   510163M         F  \n",
       "2   0.06%  5591647    929606M_939759F   929606M   939759F  \n",
       "3   0.57%  5552653  1407735M_1390901F  1407735M  1390901F  \n",
       "4   0.02%  6872886    653484M_670717F   653484M   670717F  "
      ]
     },
     "execution_count": 6,
     "metadata": {},
     "output_type": "execute_result"
    }
   ],
   "source": [
    "string_split = df.GenderPop.str.split(\"_\") # Every GenderPop row is split in two columns\n",
    "df['Men'] = string_split.str.get(0) # We select the first or 0 for men\n",
    "df['Female'] = string_split.str.get(1) # We select the second or 1 for women\n",
    "df.head()"
   ]
  },
  {
   "cell_type": "markdown",
   "metadata": {},
   "source": [
    "7. Convert both of the columns into numerical datatypes.\n",
    "\n",
    "   There is still an `M` or an `F` character in each entry! We should remove those before we convert."
   ]
  },
  {
   "cell_type": "code",
   "execution_count": 7,
   "metadata": {},
   "outputs": [
    {
     "data": {
      "text/html": [
       "<div>\n",
       "<style scoped>\n",
       "    .dataframe tbody tr th:only-of-type {\n",
       "        vertical-align: middle;\n",
       "    }\n",
       "\n",
       "    .dataframe tbody tr th {\n",
       "        vertical-align: top;\n",
       "    }\n",
       "\n",
       "    .dataframe thead th {\n",
       "        text-align: right;\n",
       "    }\n",
       "</style>\n",
       "<table border=\"1\" class=\"dataframe\">\n",
       "  <thead>\n",
       "    <tr style=\"text-align: right;\">\n",
       "      <th></th>\n",
       "      <th>Unnamed: 0</th>\n",
       "      <th>State</th>\n",
       "      <th>TotalPop</th>\n",
       "      <th>Hispanic</th>\n",
       "      <th>White</th>\n",
       "      <th>Black</th>\n",
       "      <th>Native</th>\n",
       "      <th>Asian</th>\n",
       "      <th>Pacific</th>\n",
       "      <th>Income</th>\n",
       "      <th>GenderPop</th>\n",
       "      <th>Men</th>\n",
       "      <th>Female</th>\n",
       "    </tr>\n",
       "  </thead>\n",
       "  <tbody>\n",
       "    <tr>\n",
       "      <th>0</th>\n",
       "      <td>0</td>\n",
       "      <td>Missouri</td>\n",
       "      <td>6045448</td>\n",
       "      <td>4.04%</td>\n",
       "      <td>77.51%</td>\n",
       "      <td>14.12%</td>\n",
       "      <td>0.36%</td>\n",
       "      <td>1.62%</td>\n",
       "      <td>0.10%</td>\n",
       "      <td>4976399</td>\n",
       "      <td>2964003M_3081445F</td>\n",
       "      <td>2964003</td>\n",
       "      <td>3081445.0</td>\n",
       "    </tr>\n",
       "    <tr>\n",
       "      <th>1</th>\n",
       "      <td>1</td>\n",
       "      <td>Montana</td>\n",
       "      <td>1014699</td>\n",
       "      <td>3.27%</td>\n",
       "      <td>86.42%</td>\n",
       "      <td>0.43%</td>\n",
       "      <td>7.06%</td>\n",
       "      <td>0.57%</td>\n",
       "      <td>0.07%</td>\n",
       "      <td>4764568</td>\n",
       "      <td>510163M_F</td>\n",
       "      <td>510163</td>\n",
       "      <td>NaN</td>\n",
       "    </tr>\n",
       "    <tr>\n",
       "      <th>2</th>\n",
       "      <td>2</td>\n",
       "      <td>Nebraska</td>\n",
       "      <td>1869365</td>\n",
       "      <td>9.20%</td>\n",
       "      <td>81.14%</td>\n",
       "      <td>4.96%</td>\n",
       "      <td>0.86%</td>\n",
       "      <td>1.86%</td>\n",
       "      <td>0.06%</td>\n",
       "      <td>5591647</td>\n",
       "      <td>929606M_939759F</td>\n",
       "      <td>929606</td>\n",
       "      <td>939759.0</td>\n",
       "    </tr>\n",
       "    <tr>\n",
       "      <th>3</th>\n",
       "      <td>3</td>\n",
       "      <td>Nevada</td>\n",
       "      <td>2798636</td>\n",
       "      <td>27.10%</td>\n",
       "      <td>53.24%</td>\n",
       "      <td>7.74%</td>\n",
       "      <td>1.09%</td>\n",
       "      <td>7.10%</td>\n",
       "      <td>0.57%</td>\n",
       "      <td>5552653</td>\n",
       "      <td>1407735M_1390901F</td>\n",
       "      <td>1407735</td>\n",
       "      <td>1390901.0</td>\n",
       "    </tr>\n",
       "    <tr>\n",
       "      <th>4</th>\n",
       "      <td>4</td>\n",
       "      <td>New Hampshire</td>\n",
       "      <td>1324201</td>\n",
       "      <td>3.32%</td>\n",
       "      <td>91.32%</td>\n",
       "      <td>1.23%</td>\n",
       "      <td>0.14%</td>\n",
       "      <td>2.19%</td>\n",
       "      <td>0.02%</td>\n",
       "      <td>6872886</td>\n",
       "      <td>653484M_670717F</td>\n",
       "      <td>653484</td>\n",
       "      <td>670717.0</td>\n",
       "    </tr>\n",
       "  </tbody>\n",
       "</table>\n",
       "</div>"
      ],
      "text/plain": [
       "   Unnamed: 0          State  TotalPop Hispanic   White   Black Native  Asian  \\\n",
       "0           0       Missouri   6045448    4.04%  77.51%  14.12%  0.36%  1.62%   \n",
       "1           1        Montana   1014699    3.27%  86.42%   0.43%  7.06%  0.57%   \n",
       "2           2       Nebraska   1869365    9.20%  81.14%   4.96%  0.86%  1.86%   \n",
       "3           3         Nevada   2798636   27.10%  53.24%   7.74%  1.09%  7.10%   \n",
       "4           4  New Hampshire   1324201    3.32%  91.32%   1.23%  0.14%  2.19%   \n",
       "\n",
       "  Pacific   Income          GenderPop      Men     Female  \n",
       "0   0.10%  4976399  2964003M_3081445F  2964003  3081445.0  \n",
       "1   0.07%  4764568          510163M_F   510163        NaN  \n",
       "2   0.06%  5591647    929606M_939759F   929606   939759.0  \n",
       "3   0.57%  5552653  1407735M_1390901F  1407735  1390901.0  \n",
       "4   0.02%  6872886    653484M_670717F   653484   670717.0  "
      ]
     },
     "execution_count": 7,
     "metadata": {},
     "output_type": "execute_result"
    }
   ],
   "source": [
    "df['Men'] = pd.to_numeric(df['Men'].str.replace('M', ''))\n",
    "df['Female'] = pd.to_numeric(df['Female'].str.replace('F', ''))\n",
    "\n",
    "df.head()"
   ]
  },
  {
   "cell_type": "markdown",
   "metadata": {},
   "source": [
    "8. Now you should have the columns you need to make the graph and make sure your boss does not slam a ruler angrily on your desk because you've wasted your whole day cleaning your data with no results to show!\n",
    "\n",
    "   Use matplotlib to make a scatterplot!\n",
    "   \n",
    "   ```py\n",
    "   plt.scatter(the_women_column, the_income_column)\n",
    "   ```\n",
    "   \n",
    "   Remember to call `plt.show()` to see the graph!"
   ]
  },
  {
   "cell_type": "code",
   "execution_count": 8,
   "metadata": {},
   "outputs": [
    {
     "data": {
      "text/plain": [
       "<matplotlib.collections.PathCollection at 0x7f9e7b125750>"
      ]
     },
     "execution_count": 8,
     "metadata": {},
     "output_type": "execute_result"
    },
    {
     "data": {
      "image/png": "[encoded data removed]",
      "text/plain": [
       "<Figure size 640x480 with 1 Axes>"
      ]
     },
     "metadata": {},
     "output_type": "display_data"
    }
   ],
   "source": [
    "plt.scatter(df.Female, df.Income)"
   ]
  },
  {
   "cell_type": "markdown",
   "metadata": {},
   "source": [
    "9. You want to double check your work. You know from experience that these monstrous csv files probably have `nan` values in them! Print out your column with the number of women per state to see.\n",
    "\n",
    "   We can fill in those `nan`s by using pandas' `.fillna()` function.\n",
    "   \n",
    "   You have the `TotalPop` per state, and you have the `Men` per state. As an estimate for the `nan` values in the `Women` column, you could use the `TotalPop` of that state minus the `Men` for that state.\n",
    "   \n",
    "   Print out the `Women` column after filling the `nan` values to see if it worked!"
   ]
  },
  {
   "cell_type": "code",
   "execution_count": 9,
   "metadata": {},
   "outputs": [
    {
     "name": "stdout",
     "output_type": "stream",
     "text": [
      "State\n",
      "Alabama                  2489527.0\n",
      "Alaska                    349215.0\n",
      "Arizona                  3342840.0\n",
      "Arkansas                 1506295.0\n",
      "California              19334329.0\n",
      "Colorado                 5260478.0\n",
      "Connecticut              1841615.0\n",
      "Delaware                  478041.0\n",
      "District of Columbia      340810.0\n",
      "Florida                 10045763.0\n",
      "Georgia                 10246724.0\n",
      "Hawaii                    696428.0\n",
      "Idaho                     806083.0\n",
      "Illinois                 6556862.0\n",
      "Indiana                  3333382.0\n",
      "Iowa                     3117862.0\n",
      "Kansas                   1453125.0\n",
      "Kentucky                 2233145.0\n",
      "Louisiana                2364097.0\n",
      "Maine                     679019.0\n",
      "Maryland                       0.0\n",
      "Massachusetts            3455936.0\n",
      "Michigan                 5038598.0\n",
      "Minnesota                2727005.0\n",
      "Mississippi              1536358.0\n",
      "Missouri                 6162890.0\n",
      "Montana                        0.0\n",
      "Nebraska                  939759.0\n",
      "Nevada                   1390901.0\n",
      "New Hampshire             670717.0\n",
      "New Jersey               9122772.0\n",
      "New Mexico               1051703.0\n",
      "New York                10131373.0\n",
      "North Carolina           5049925.0\n",
      "North Dakota              353677.0\n",
      "Ohio                    11826168.0\n",
      "Oklahoma                 1942789.0\n",
      "Oregon                   1990780.0\n",
      "Pennsylvania             6534215.0\n",
      "Puerto Rico              1869213.0\n",
      "Rhode Island             1086546.0\n",
      "South Carolina           2455167.0\n",
      "South Dakota              419713.0\n",
      "Tennessee                3331859.0\n",
      "Texas                   13367298.0\n",
      "Utah                     2888300.0\n",
      "Vermont                   318031.0\n",
      "Virginia                 4195682.0\n",
      "Washington               3497739.0\n",
      "West Virginia             937789.0\n",
      "Wisconsin                2890732.0\n",
      "Name: Female, dtype: float64\n",
      "State\n",
      "Alabama                  2489527.0\n",
      "Alaska                    349215.0\n",
      "Arizona                  3342840.0\n",
      "Arkansas                 1506295.0\n",
      "California              19334329.0\n",
      "Colorado                 5260478.0\n",
      "Connecticut              1841615.0\n",
      "Delaware                  478041.0\n",
      "District of Columbia      340810.0\n",
      "Florida                 10045763.0\n",
      "Georgia                 10246724.0\n",
      "Hawaii                    696428.0\n",
      "Idaho                     806083.0\n",
      "Illinois                 6556862.0\n",
      "Indiana                  3333382.0\n",
      "Iowa                     3117862.0\n",
      "Kansas                   1453125.0\n",
      "Kentucky                 2233145.0\n",
      "Louisiana                2364097.0\n",
      "Maine                     679019.0\n",
      "Maryland                 6115790.0\n",
      "Massachusetts            3455936.0\n",
      "Michigan                 5038598.0\n",
      "Minnesota                2727005.0\n",
      "Mississippi              1536358.0\n",
      "Missouri                 6162890.0\n",
      "Montana                   504536.0\n",
      "Nebraska                  939759.0\n",
      "Nevada                   1390901.0\n",
      "New Hampshire             670717.0\n",
      "New Jersey               9122772.0\n",
      "New Mexico               1051703.0\n",
      "New York                10131373.0\n",
      "North Carolina           5049925.0\n",
      "North Dakota              353677.0\n",
      "Ohio                    11826168.0\n",
      "Oklahoma                 1942789.0\n",
      "Oregon                   1990780.0\n",
      "Pennsylvania             6534215.0\n",
      "Puerto Rico              1869213.0\n",
      "Rhode Island             1086546.0\n",
      "South Carolina           2455167.0\n",
      "South Dakota              419713.0\n",
      "Tennessee                3331859.0\n",
      "Texas                   13367298.0\n",
      "Utah                     2888300.0\n",
      "Vermont                   318031.0\n",
      "Virginia                 4195682.0\n",
      "Washington               3497739.0\n",
      "West Virginia             937789.0\n",
      "Wisconsin                2890732.0\n",
      "Name: Female, dtype: float64\n"
     ]
    }
   ],
   "source": [
    "print(df['Female'].groupby(df.State).sum())\n",
    "df.Female = df.Female.fillna(df.TotalPop - df.Men)\n",
    "print(df['Female'].groupby(df.State).sum())"
   ]
  },
  {
   "cell_type": "markdown",
   "metadata": {},
   "source": [
    "10. We forgot to check for duplicates! Use `.duplicated()` on your `census` DataFrame to see if we have duplicate rows in there."
   ]
  },
  {
   "cell_type": "code",
   "execution_count": 10,
   "metadata": {},
   "outputs": [
    {
     "data": {
      "text/plain": [
       "0    False\n",
       "1    False\n",
       "2    False\n",
       "3    False\n",
       "4    False\n",
       "5    False\n",
       "0    False\n",
       "1    False\n",
       "2    False\n",
       "3    False\n",
       "4    False\n",
       "5    False\n",
       "0    False\n",
       "1    False\n",
       "2    False\n",
       "3    False\n",
       "4    False\n",
       "5    False\n",
       "0    False\n",
       "1    False\n",
       "2    False\n",
       "3    False\n",
       "4    False\n",
       "5     True\n",
       "0    False\n",
       "1    False\n",
       "2    False\n",
       "3    False\n",
       "4    False\n",
       "5     True\n",
       "0     True\n",
       "1    False\n",
       "2    False\n",
       "3    False\n",
       "4    False\n",
       "5    False\n",
       "0    False\n",
       "1    False\n",
       "2    False\n",
       "3    False\n",
       "4    False\n",
       "5     True\n",
       "0     True\n",
       "1    False\n",
       "2    False\n",
       "3    False\n",
       "4    False\n",
       "5     True\n",
       "0     True\n",
       "1    False\n",
       "2    False\n",
       "3    False\n",
       "4    False\n",
       "5    False\n",
       "0     True\n",
       "1    False\n",
       "2    False\n",
       "3    False\n",
       "4    False\n",
       "5     True\n",
       "dtype: bool"
      ]
     },
     "execution_count": 10,
     "metadata": {},
     "output_type": "execute_result"
    }
   ],
   "source": [
    "df.duplicated(subset = df.columns[1:])"
   ]
  },
  {
   "cell_type": "markdown",
   "metadata": {},
   "source": [
    "11. Drop those duplicates using the `.drop_duplicates()` function."
   ]
  },
  {
   "cell_type": "code",
   "execution_count": 11,
   "metadata": {},
   "outputs": [],
   "source": [
    "df_updated = df.drop_duplicates(subset = df[1:])"
   ]
  },
  {
   "cell_type": "markdown",
   "metadata": {},
   "source": [
    "12. Make the scatterplot again. Now, it should be perfect! Your job is secure, for now."
   ]
  },
  {
   "cell_type": "code",
   "execution_count": 12,
   "metadata": {},
   "outputs": [
    {
     "data": {
      "image/png": "[encoded data removed]",
      "text/plain": [
       "<Figure size 640x480 with 1 Axes>"
      ]
     },
     "metadata": {},
     "output_type": "display_data"
    }
   ],
   "source": [
    "plt.scatter(df.Female, df.Income)\n",
    "plt.show()"
   ]
  },
  {
   "cell_type": "markdown",
   "metadata": {},
   "source": [
    "## Histogram of Races"
   ]
  },
  {
   "cell_type": "markdown",
   "metadata": {},
   "source": [
    "13. Now your boss wants you to make a bunch of histograms out of the race data that you have. Look at the `.columns` again to see what the race categories are."
   ]
  },
  {
   "cell_type": "code",
   "execution_count": 13,
   "metadata": {},
   "outputs": [
    {
     "data": {
      "text/plain": [
       "Index(['Unnamed: 0', 'State', 'TotalPop', 'Hispanic', 'White', 'Black',\n",
       "       'Native', 'Asian', 'Pacific', 'Income', 'GenderPop', 'Men', 'Female'],\n",
       "      dtype='object')"
      ]
     },
     "execution_count": 13,
     "metadata": {},
     "output_type": "execute_result"
    }
   ],
   "source": [
    "df.columns"
   ]
  },
  {
   "cell_type": "markdown",
   "metadata": {},
   "source": [
    "14. Try to make a histogram for each one!\n",
    "\n",
    "    You will have to get the columns into the numerical format, and those percentage signs will have to go.\n",
    "    \n",
    "    Don't forget to fill the `nan` values with something that makes sense! You probably dropped the duplicate rows when making your last graph, but it couldn't hurt to check for duplicates again."
   ]
  },
  {
   "cell_type": "code",
   "execution_count": 14,
   "metadata": {},
   "outputs": [
    {
     "data": {
      "image/png": "[encoded data removed]",
      "text/plain": [
       "<Figure size 640x480 with 1 Axes>"
      ]
     },
     "metadata": {},
     "output_type": "display_data"
    },
    {
     "data": {
      "image/png": "[encoded data removed]",
      "text/plain": [
       "<Figure size 640x480 with 1 Axes>"
      ]
     },
     "metadata": {},
     "output_type": "display_data"
    },
    {
     "data": {
      "image/png": "[encoded data removed]",
      "text/plain": [
       "<Figure size 640x480 with 1 Axes>"
      ]
     },
     "metadata": {},
     "output_type": "display_data"
    },
    {
     "data": {
      "image/png": "[encoded data removed]",
      "text/plain": [
       "<Figure size 640x480 with 1 Axes>"
      ]
     },
     "metadata": {},
     "output_type": "display_data"
    },
    {
     "data": {
      "image/png": "[encoded data removed]",
      "text/plain": [
       "<Figure size 640x480 with 1 Axes>"
      ]
     },
     "metadata": {},
     "output_type": "display_data"
    },
    {
     "data": {
      "image/png": "[encoded data removed]",
      "text/plain": [
       "<Figure size 640x480 with 1 Axes>"
      ]
     },
     "metadata": {},
     "output_type": "display_data"
    },
    {
     "data": {
      "text/plain": [
       "<Figure size 640x480 with 0 Axes>"
      ]
     },
     "metadata": {},
     "output_type": "display_data"
    }
   ],
   "source": [
    "df.head()\n",
    "races = ['Hispanic', 'White', 'Black', 'Native', 'Asian', 'Pacific'] # List of the races\n",
    "for race in races:# Looping the list of the race names\n",
    "    if df[race].str != 'NaN': # If the row contains NaN\n",
    "        df[race] = df[race].str.replace(\"%\", '') # Removing the % sign\n",
    "        df[race] = pd.to_numeric(df[race]) # Turning the dtype to numeric\n",
    "    else: \n",
    "        counter = 0\n",
    "        for i in races:\n",
    "            if i != race:\n",
    "                counter += i\n",
    "        df[race] = 100 - counter\n",
    "        # What the idea behind the else statement is: We are looping once more through the races list, the we\n",
    "        # add up the nubers of the other races. Finally since we know that we are working with a percentage, we can\n",
    "        # can deduct the number that we found with 100. This will be the new vallue of that NaN value\n",
    "\n",
    "    plt.hist(df[race])\n",
    "    plt.title(f\"Percentage of {race}\")\n",
    "    plt.xlabel('Percentage')\n",
    "    plt.ylabel('Frequency')\n",
    "    plt.show()\n",
    "    plt.clf()"
   ]
  },
  {
   "cell_type": "markdown",
   "metadata": {},
   "source": [
    "# Review\n",
    "Fun and interesting tasks. I really liked question 14, since I could do several things only in one main loop."
   ]
  }
 ],
 "metadata": {
  "kernelspec": {
   "display_name": "Python 3 (ipykernel)",
   "language": "python",
   "name": "python3"
  },
  "language_info": {
   "codemirror_mode": {
    "name": "ipython",
    "version": 3
   },
   "file_extension": ".py",
   "mimetype": "text/x-python",
   "name": "python",
   "nbconvert_exporter": "python",
   "pygments_lexer": "ipython3",
   "version": "3.11.3"
  }
 },
 "nbformat": 4,
 "nbformat_minor": 2
}
