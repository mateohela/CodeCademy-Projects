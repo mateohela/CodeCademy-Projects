{
 "cells": [
  {
   "cell_type": "markdown",
   "id": "91f2958e",
   "metadata": {},
   "source": [
    "# Lyft Trip Data\n",
    "\n",
    "## The project details:\n",
    "Suppose you are a Data Analyst at Lyft, a ride-sharing platform. For a project, you were given three tables:\n",
    "\n",
    "trips: trips information\n",
    "riders: user data\n",
    "cars: autonomous cars"
   ]
  },
  {
   "cell_type": "code",
   "execution_count": null,
   "id": "0e97da8c",
   "metadata": {},
   "outputs": [],
   "source": [
    "-- 1 Let’s examine the three tables.\n",
    "-- SELECT * FROM trips;\n",
    "-- SELECT * FROM riders;\n",
    "-- SELECT * FROM cars;\n",
    "\n",
    "SELECT * FROM trips;\n",
    "SELECT * FROM riders;\n",
    "SELECT * FROM cars;\n",
    "\n",
    "-- Results\n",
    "\n",
    "Query Results\n",
    "id\tdate\tpickup\tdropoff\trider_id\tcar_id\ttype\tcost\n",
    "1001\t2017-12-05\t06:45\t07:10\t102\t1\tX\t28.66\n",
    "1002\t2017-12-05\t08:00\t08:15\t101\t3\tPOOL\t9.11\n",
    "1003\t2017-12-05\t09:30\t09:50\t104\t4\tX\t24.98\n",
    "1004\t2017-12-05\t13:40\t14:05\t105\t1\tX\t31.27\n",
    "1005\t2017-12-05\t15:15\t16:00\t103\t2\tPOOL\t18.95\n",
    "1006\t2017-12-05\t18:20\t18:55\t101\t3\tXL\t78.52\n",
    "id\tfirst\tlast\tusername\trating\ttotal_trips\treferred\n",
    "101\tSonny\tLi\t@sonnynomnom\t4.66\t352\t\n",
    "102\tLaura\tBreiman\t@lauracle\t4.99\t687\t101\n",
    "103\tKassa\tKorley\t@kassablanca\t4.63\t42\t\n",
    "104\tYakov\tKagan\t@yakovkagan\t4.52\t1910\t103\n",
    "id\tmodel\tOS\tstatus\ttrips_completed\n",
    "1\tAda\tRyzac\tactive\t82\n",
    "2\tAda\tRyzac\tactive\t30\n",
    "3\tTuring XL\tRyzac\tactive\t164\n",
    "4\tAkira\tFinux\tmaintenance\t22"
   ]
  },
  {
   "cell_type": "code",
   "execution_count": null,
   "id": "118573d4",
   "metadata": {},
   "outputs": [],
   "source": [
    "-- 2 Try out a simple cross join between riders and cars.\n",
    "SELECT * FROM riders CROSS JOIN cars;\n",
    "\n",
    "-- Results\n",
    "\n",
    "Query Results\n",
    "id\tfirst\tlast\tusername\trating\ttotal_trips\treferred\tid\tmodel\tOS\tstatus\ttrips_completed\n",
    "101\tSonny\tLi\t@sonnynomnom\t4.66\t352\t\t1\tAda\tRyzac\tactive\t82\n",
    "101\tSonny\tLi\t@sonnynomnom\t4.66\t352\t\t2\tAda\tRyzac\tactive\t30\n",
    "101\tSonny\tLi\t@sonnynomnom\t4.66\t352\t\t3\tTuring XL\tRyzac\tactive\t164\n",
    "101\tSonny\tLi\t@sonnynomnom\t4.66\t352\t\t4\tAkira\tFinux\tmaintenance\t22\n",
    "102\tLaura\tBreiman\t@lauracle\t4.99\t687\t101\t1\tAda\tRyzac\tactive\t82\n",
    "102\tLaura\tBreiman\t@lauracle\t4.99\t687\t101\t2\tAda\tRyzac\tactive\t30\n",
    "102\tLaura\tBreiman\t@lauracle\t4.99\t687\t101\t3\tTuring XL\tRyzac\tactive\t164\n",
    "102\tLaura\tBreiman\t@lauracle\t4.99\t687\t101\t4\tAkira\tFinux\tmaintenance\t22\n",
    "103\tKassa\tKorley\t@kassablanca\t4.63\t42\t\t1\tAda\tRyzac\tactive\t82\n",
    "103\tKassa\tKorley\t@kassablanca\t4.63\t42\t\t2\tAda\tRyzac\tactive\t30\n",
    "103\tKassa\tKorley\t@kassablanca\t4.63\t42\t\t3\tTuring XL\tRyzac\tactive\t164\n",
    "103\tKassa\tKorley\t@kassablanca\t4.63\t42\t\t4\tAkira\tFinux\tmaintenance\t22\n",
    "104\tYakov\tKagan\t@yakovkagan\t4.52\t1910\t103\t1\tAda\tRyzac\tactive\t82\n",
    "104\tYakov\tKagan\t@yakovkagan\t4.52\t1910\t103\t2\tAda\tRyzac\tactive\t30\n",
    "104\tYakov\tKagan\t@yakovkagan\t4.52\t1910\t103\t3\tTuring XL\tRyzac\tactive\t164\n",
    "104\tYakov\tKagan\t@yakovkagan\t4.52\t1910\t103\t4\tAkira\tFinux\tmaintenance\t22\n"
   ]
  },
  {
   "cell_type": "code",
   "execution_count": null,
   "id": "8d9d6fa8",
   "metadata": {},
   "outputs": [],
   "source": [
    "-- 3 Suppose we want to create a Trip Log with the trips and its users.\n",
    "-- Find the columns to join between trips and riders and combine the two tables using a LEFT JOIN.\n",
    "-- Let trips be the left table.\n",
    "SELECT * FROM trips LEFT JOIN riders ON trips.rider_id = riders.id;\n",
    "\n",
    "-- Results\n",
    "\n",
    "Query Results\n",
    "id\tdate\tpickup\tdropoff\trider_id\tcar_id\ttype\tcost\tid\tfirst\tlast\tusername\trating\ttotal_trips\treferred\n",
    "1001\t2017-12-05\t06:45\t07:10\t102\t1\tX\t28.66\t102\tLaura\tBreiman\t@lauracle\t4.99\t687\t101\n",
    "1002\t2017-12-05\t08:00\t08:15\t101\t3\tPOOL\t9.11\t101\tSonny\tLi\t@sonnynomnom\t4.66\t352\t\n",
    "1003\t2017-12-05\t09:30\t09:50\t104\t4\tX\t24.98\t104\tYakov\tKagan\t@yakovkagan\t4.52\t1910\t103\n",
    "1004\t2017-12-05\t13:40\t14:05\t105\t1\tX\t31.27\t\t\t\t\t\t\t\n",
    "1005\t2017-12-05\t15:15\t16:00\t103\t2\tPOOL\t18.95\t103\tKassa\tKorley\t@kassablanca\t4.63\t42\t\n",
    "1006\t2017-12-05\t18:20\t18:55\t101\t3\tXL\t78.52\t101\tSonny\tLi\t@sonnynomnom\t4.66\t352\t\n"
   ]
  },
  {
   "cell_type": "code",
   "execution_count": null,
   "id": "e765efe6",
   "metadata": {},
   "outputs": [],
   "source": [
    "-- 4 Suppose we want to create a link between the trips and the cars used during those trips.\n",
    "-- Find the columns to join on and combine the trips and cars table using an INNER JOIN.\n",
    "SELECT * FROM trips JOIN cars ON trips.car_id = cars.id;\n",
    "\n",
    "-- Results\n",
    "\n",
    "Query Results\n",
    "id\tdate\tpickup\tdropoff\trider_id\tcar_id\ttype\tcost\tid\tmodel\tOS\tstatus\ttrips_completed\n",
    "1001\t2017-12-05\t06:45\t07:10\t102\t1\tX\t28.66\t1\tAda\tRyzac\tactive\t82\n",
    "1002\t2017-12-05\t08:00\t08:15\t101\t3\tPOOL\t9.11\t3\tTuring XL\tRyzac\tactive\t164\n",
    "1003\t2017-12-05\t09:30\t09:50\t104\t4\tX\t24.98\t4\tAkira\tFinux\tmaintenance\t22\n",
    "1004\t2017-12-05\t13:40\t14:05\t105\t1\tX\t31.27\t1\tAda\tRyzac\tactive\t82\n",
    "1005\t2017-12-05\t15:15\t16:00\t103\t2\tPOOL\t18.95\t2\tAda\tRyzac\tactive\t30\n",
    "1006\t2017-12-05\t18:20\t18:55\t101\t3\tXL\t78.52\t3\tTuring XL\tRyzac\tactive\t164\n"
   ]
  },
  {
   "cell_type": "code",
   "execution_count": null,
   "id": "220956fe",
   "metadata": {},
   "outputs": [],
   "source": [
    "-- 5 The new riders data are in! There are three new users this month.\n",
    "-- Stack the riders table on top of the new table named riders2.\n",
    "\n",
    "SELECT * FROM riders UNION SELECT * FROM riders2;\n",
    "\n",
    "-- Results\n",
    "\n",
    "Query Results\n",
    "id\tfirst\tlast\tusername\trating\ttotal_trips\treferred\n",
    "101\tSonny\tLi\t@sonnynomnom\t4.66\t352\t\n",
    "102\tLaura\tBreiman\t@lauracle\t4.99\t687\t101\n",
    "103\tKassa\tKorley\t@kassablanca\t4.63\t42\t\n",
    "104\tYakov\tKagan\t@yakovkagan\t4.52\t1910\t103\n",
    "105\tZach\tSims\t@zsims\t4.85\t787\t\n",
    "106\tEric\tVaught\t@posturelol\t4.96\t54\t101\n",
    "107\tJilly\tBeans\t@jillkuzmin\t4.7\t32\t101"
   ]
  },
  {
   "cell_type": "code",
   "execution_count": null,
   "id": "706a0e37",
   "metadata": {},
   "outputs": [],
   "source": [
    "-- 6 What is the average cost for a trip?\n",
    "SELECT AVG(cost) FROM trips;\n",
    "\n",
    "-- Results\n",
    "\n",
    "Query Results\n",
    "AVG(cost)\n",
    "31.915"
   ]
  },
  {
   "cell_type": "code",
   "execution_count": null,
   "id": "892429f4",
   "metadata": {},
   "outputs": [],
   "source": [
    "-- 7 Lyft is looking to do an email campaign for all the irregular users.\n",
    "-- Find all the riders who have used Lyft less than 500 times!\n",
    "SELECT * FROM riders WHERE total_trips < 500;\n",
    "\n",
    "-- Results\n",
    "\n",
    "Query Results\n",
    "id\tfirst\tlast\tusername\trating\ttotal_trips\treferred\n",
    "101\tSonny\tLi\t@sonnynomnom\t4.66\t352\t\n",
    "103\tKassa\tKorley\t@kassablanca\t4.63\t42\t"
   ]
  },
  {
   "cell_type": "code",
   "execution_count": null,
   "id": "b447cd43",
   "metadata": {},
   "outputs": [],
   "source": [
    "-- 8 Calculate the number of cars that are active.\n",
    "SELECT * FROM cars WHERE status= 'active';\n",
    "\n",
    "-- Results\n",
    "\n",
    "Query Results\n",
    "id\tmodel\tOS\tstatus\ttrips_completed\n",
    "1\tAda\tRyzac\tactive\t82\n",
    "2\tAda\tRyzac\tactive\t30\n",
    "3\tTuring XL\tRyzac\tactive\t164"
   ]
  },
  {
   "cell_type": "code",
   "execution_count": null,
   "id": "f058815d",
   "metadata": {},
   "outputs": [],
   "source": [
    "-- 9 It’s safety recall time for cars that have been on the road for a while.\n",
    "-- Write a query that finds the two cars that have the highest trips_completed.\n",
    "SELECT * FROM cars ORDER BY trips_completed DESC LIMIT 2;\n",
    "\n",
    "-- Results\n",
    "\n",
    "Query Results\n",
    "id\tmodel\tOS\tstatus\ttrips_completed\n",
    "3\tTuring XL\tRyzac\tactive\t164\n",
    "1\tAda\tRyzac\tactive\t82"
   ]
  },
  {
   "cell_type": "markdown",
   "id": "90d8a8bb",
   "metadata": {},
   "source": [
    "## Review\n",
    "It is a very nice database to begin learning and practising your skills on linking different tables."
   ]
  }
 ],
 "metadata": {
  "kernelspec": {
   "display_name": "Python 3 (ipykernel)",
   "language": "python",
   "name": "python3"
  },
  "language_info": {
   "codemirror_mode": {
    "name": "ipython",
    "version": 3
   },
   "file_extension": ".py",
   "mimetype": "text/x-python",
   "name": "python",
   "nbconvert_exporter": "python",
   "pygments_lexer": "ipython3",
   "version": "3.11.3"
  }
 },
 "nbformat": 4,
 "nbformat_minor": 5
}
