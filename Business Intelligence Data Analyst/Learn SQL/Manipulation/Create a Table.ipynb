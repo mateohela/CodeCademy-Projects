{
 "cells": [
  {
   "cell_type": "markdown",
   "id": "a5cf3539",
   "metadata": {},
   "source": [
    "# Create a Table\n",
    "## The project details:\n",
    "In this project, you will create your own friends table and add/delete data from it!"
   ]
  },
  {
   "cell_type": "code",
   "execution_count": null,
   "id": "9febd4e3",
   "metadata": {},
   "outputs": [],
   "source": [
    "-- 1 Create a table named friends with three columns:\n",
    "-- id that stores INTEGER\n",
    "-- name that stores TEXT\n",
    "-- birthday that stores DATE\n",
    "\n",
    "CREATE TABLE friends (\n",
    "  id INTEGER,\n",
    "  name TEXT,\n",
    "  birthday DATE\n",
    ");\n",
    "\n",
    "-- Results\n",
    "\n",
    "Query Results\n",
    "Database Schema\n",
    "celebs\n",
    "name\ttype\n",
    "id\tINTEGER\n",
    "name\tTEXT\n",
    "age\tINTEGER\n",
    "Rows: 1\n",
    "contacts\n",
    "name\ttype\n",
    "id\tINTEGER\n",
    "name\tTEXT\n",
    "birthday\tDATE\n",
    "Rows: 4\n",
    "friends\n",
    "name\ttype\n",
    "id\tINTEGER\n",
    "name\tTEXT\n",
    "birthday\tDATE\n",
    "Rows: 0\n"
   ]
  },
  {
   "cell_type": "code",
   "execution_count": null,
   "id": "e1a03631",
   "metadata": {},
   "outputs": [],
   "source": [
    "-- 2 Add Ororo Munroe to friends.\n",
    "-- Her birthday is May 30th, 1940.\n",
    "\n",
    "INSERT INTO friends (id, name, birthday) \n",
    "VALUES (1, 'Ororo Munroe', '1940-05-30');\n",
    "\n",
    "-- Results\n",
    "\n",
    "friends\n",
    "name\ttype\n",
    "id\tINTEGER\n",
    "name\tTEXT\n",
    "birthday\tDATE\n",
    "Rows: 1\n"
   ]
  },
  {
   "cell_type": "code",
   "execution_count": null,
   "id": "4416e72c",
   "metadata": {},
   "outputs": [],
   "source": [
    "-- 3 Let’s make sure that Ororo has been added to the database:\n",
    "\n",
    "SELECT * FROM friends;\n",
    "\n",
    "-- Results\n",
    "\n",
    "Query Results\n",
    "id\tname\tbirthday\n",
    "1\tOroro Munroe\t1940-05-30"
   ]
  },
  {
   "cell_type": "code",
   "execution_count": null,
   "id": "af92febb",
   "metadata": {},
   "outputs": [],
   "source": [
    "-- 4 Add two of your friends to the table.\n",
    "-- Insert an id, name, and birthday for each of them.\n",
    "\n",
    "INSERT INTO friends (id, name, birthday) \n",
    "VALUES (2, 'BFF One', 'YYYY-MM-DD');\n",
    "\n",
    "INSERT INTO friends (id, name, birthday) \n",
    "VALUES (3, 'BFF Two', 'YYYY-MM-DD');\n",
    "\n",
    "-- Results\n",
    "\n",
    "Query Results\n",
    "id\tname\tbirthday\n",
    "1\tOroro Munroe\t1940-05-30\n",
    "2\tBFF One\tYYYY-MM-DD\n",
    "3\tBFF Two\tYYYY-MM-DD"
   ]
  },
  {
   "cell_type": "code",
   "execution_count": null,
   "id": "664e34ec",
   "metadata": {},
   "outputs": [],
   "source": [
    "-- 5 Ororo Munroe just realized that she can control the weather and \n",
    "-- decided to change her name. Her new name is “Storm”.\n",
    "-- Update her record in friends.\n",
    "\n",
    "UPDATE friends\n",
    "SET name = 'Storm'\n",
    "WHERE name = 'Ororo Munroe';\n",
    "\n",
    "-- Result\n",
    "\n",
    "id\tname\tbirthday\n",
    "1\tStorm\t1940-05-30"
   ]
  },
  {
   "cell_type": "code",
   "execution_count": null,
   "id": "210537c1",
   "metadata": {},
   "outputs": [],
   "source": [
    "-- 6 Add a new column named email.\n",
    "\n",
    "ALTER TABLE friends\n",
    "ADD COLUMN email TEXT;\n",
    "\n",
    "-- Results\n",
    "\n",
    "Query Results\n",
    "id\tname\tbirthday\temail\n",
    "1\tStorm\t1940-05-30\t\n",
    "2\tBFF One\tYYYY-MM-DD\t\n",
    "3\tBFF Two\tYYYY-MM-DD\t"
   ]
  },
  {
   "cell_type": "code",
   "execution_count": null,
   "id": "0b6036cf",
   "metadata": {},
   "outputs": [],
   "source": [
    "-- 7 Update the email address for everyone in your table.\n",
    "-- Storm’s email is storm@codecademy.com.\n",
    "\n",
    "UPDATE friends SET email = 'storm@codecademy.com' WHERE name = 'Storm';\n",
    "\n",
    "-- Result\n",
    "\n",
    "id\tname\tbirthday\temail\n",
    "1\tStorm\t1940-05-30\tstorm@codecademy.com\n",
    "2\tBFF One\tYYYY-MM-DD\t"
   ]
  },
  {
   "cell_type": "code",
   "execution_count": null,
   "id": "64d2e5b1",
   "metadata": {},
   "outputs": [],
   "source": [
    "-- 8 Wait, Storm is fictional…\n",
    "-- Remove her from friends.\n",
    "\n",
    "DELETE FROM friends WHERE id = 1;\n",
    "\n",
    "-- Results\n",
    "\n",
    "Query Results\n",
    "id\tname\tbirthday\temail\n",
    "2\tBFF One\tYYYY-MM-DD\t\n",
    "3\tBFF Two\tYYYY-MM-DD\t"
   ]
  },
  {
   "cell_type": "markdown",
   "id": "2a05474a",
   "metadata": {},
   "source": [
    "## Review\n",
    "Using some of the sql common commands to create a new table, editing it, and deleting items."
   ]
  }
 ],
 "metadata": {
  "kernelspec": {
   "display_name": "Python 3 (ipykernel)",
   "language": "python",
   "name": "python3"
  },
  "language_info": {
   "codemirror_mode": {
    "name": "ipython",
    "version": 3
   },
   "file_extension": ".py",
   "mimetype": "text/x-python",
   "name": "python",
   "nbconvert_exporter": "python",
   "pygments_lexer": "ipython3",
   "version": "3.11.3"
  }
 },
 "nbformat": 4,
 "nbformat_minor": 5
}
