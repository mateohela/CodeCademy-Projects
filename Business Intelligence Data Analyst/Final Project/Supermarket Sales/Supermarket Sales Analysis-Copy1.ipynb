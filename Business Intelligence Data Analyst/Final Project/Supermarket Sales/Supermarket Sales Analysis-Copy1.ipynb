{
 "cells": [
  {
   "cell_type": "markdown",
   "id": "52921b4e",
   "metadata": {},
   "source": [
    "### Table of Contents\n",
    "\n",
    "* [Goals](#Goals)\n",
    "* [Data](#Data)\n",
    "    * [Data context](#data_context)\n",
    "    * [Loading the Data](#loading_data)\n",
    "    * [Data Information](#data_information)\n",
    "- [Data Cleaning](#Data_Cleaning)\n",
    "- [Exploratory Data Analysis](#Exploratory_Analysis)"
   ]
  },
  {
   "cell_type": "markdown",
   "id": "d94a3c4b",
   "metadata": {},
   "source": [
    "### Goals <a class=\"anchor\" id=\"Goals\">\n",
    "\n",
    "This notebook contains an analysis on Supermarket Sales data. The goal for this project is to do the following:\n",
    "    \n",
    "    - Get acquinted with the data\n",
    "    - Clean the data so it is ready for analysis\n",
    "    - Develop questions for analysis\n",
    "    - Analyze variables within the data to gain patterns and insights"
   ]
  },
  {
   "cell_type": "markdown",
   "id": "9394d6ec",
   "metadata": {},
   "source": [
    "### Data <a class=\"anchor\" id=\"Data\">\n",
    "\n",
    "The data for this project was downloaded from Kaggle:\n",
    "\n",
    "https://www.kaggle.com/datasets/aungpyaeap/supermarket-sales\n",
    "\n",
    "Some code inspiration for this analysis was sourced from "
   ]
  },
  {
   "cell_type": "markdown",
   "id": "bd07da20",
   "metadata": {},
   "source": [
    "#### Data Context <a class=\"anchor\" id=\"data_context\">\n",
    "\n",
    "The growth of supermarkets in most populated cities are increasing and market competitions are also high. The dataset is one of the historical sales of supermarket company which has recorded in 3 different branches for 3 months data. Predictive data analytics methods are easy to apply with this dataset.\n",
    "\n",
    "##### Attribute information\n",
    "    \n",
    "- Invoice id: Computer generated sales slip invoice identification number\n",
    "- Branch: Branch of supercenter (3 branches are available identified by A, B and C).\n",
    "- City: Location of supercenters\n",
    "- Customer type: Type of customers, recorded by Members for customers using member card and Normal for without member card.\n",
    "- Gender: Gender type of customer\n",
    "- Product line: General item categorization groups - Electronic accessories, Fashion accessories, Food and beverages, Health and -beauty, Home and lifestyle, Sports and travel\n",
    "- Unit price: Price of each product in $\n",
    "- Quantity: Number of products purchased by customer\n",
    "- Tax: 5% tax fee for customer buying\n",
    "- Total: Total price including tax\n",
    "- Date: Date of purchase (Record available from January 2019 to March 2019)\n",
    "- Time: Purchase time (10am to 9pm)\n",
    "- Payment: Payment used by customer for purchase (3 methods are available – Cash, Credit card and Ewallet)\n",
    "- COGS: Cost of goods sold\n",
    "- Gross margin percentage: Gross margin percentage\n",
    "- Gross income: Gross income\n",
    "- Rating: Customer stratification rating on their overall shopping experience (On a scale of 1 to 10)\n"
   ]
  },
  {
   "cell_type": "markdown",
   "id": "ff1ea3d9",
   "metadata": {},
   "source": [
    "#### Loading Data <a class=\"anchor\" id=\"loading_data\">\n",
    "    \n",
    "First, we are loading the necessary libraries."
   ]
  },
  {
   "cell_type": "code",
   "execution_count": 1,
   "id": "e0a2c432",
   "metadata": {},
   "outputs": [],
   "source": [
    "# sets up matplotlib with interactive features\n",
    "%matplotlib notebook\n",
    "import pandas as pd\n",
    "import seaborn as sns\n",
    "import matplotlib.pyplot as plt\n",
    "import numpy as np"
   ]
  },
  {
   "cell_type": "code",
   "execution_count": 2,
   "id": "132adac1",
   "metadata": {},
   "outputs": [],
   "source": [
    "df = pd.read_csv(r\"C:\\Users\\mateo\\OneDrive - CORE Education Trust\\Documents\\GitHub\\CodeCademy-Projects\\Business Intelligence Data Analyst\\Final Project\\Supermarket Sales\\supermarket_sales - Sheet1.csv\")\n",
    "\n",
    "# Having a first look at our data\n",
    "df.head()"
   ]
  },
  {
   "cell_type": "markdown",
   "id": "45dd59e1",
   "metadata": {},
   "source": [
    "#### Data Information <a class=\"anchor\" id=\"data_information\">\n",
    "\n",
    "To understand our data we need to go through some fundamental questions:\n",
    "    \n",
    "    - We are going to check how many columns and rows we have.\n",
    "    - The name and datatype of each column.\n",
    "    - If there are any missing values.\n",
    "    - If we should rename any of the column for better consistency.\n",
    "    - Basic summary statistics.\n",
    "    - If there are any duplicates."
   ]
  },
  {
   "cell_type": "code",
   "execution_count": 3,
   "id": "d6702e60",
   "metadata": {},
   "outputs": [],
   "source": [
    "print(f\"There are {len(df.columns)} columns and {df.shape[0]} rows in our database.\\n\\n\")\n",
    "print(f\"The column names with their data types and their missing values\\n\")\n",
    "df.info()"
   ]
  },
  {
   "cell_type": "code",
   "execution_count": 4,
   "id": "2504a80f",
   "metadata": {},
   "outputs": [],
   "source": [
    "print(f\"Basic summary statistics\\n\")\n",
    "df.describe()\n"
   ]
  },
  {
   "cell_type": "markdown",
   "id": "5b092e49",
   "metadata": {},
   "source": [
    "We notice that gross margin percentage remains the same. We can drop it, since it doesn't provide any new information."
   ]
  },
  {
   "cell_type": "code",
   "execution_count": 5,
   "id": "4a3db283",
   "metadata": {},
   "outputs": [],
   "source": [
    "print(f\"There are {df.duplicated().sum()} duplicates.\")"
   ]
  },
  {
   "cell_type": "markdown",
   "id": "aafb8ec2",
   "metadata": {},
   "source": [
    "### Data Cleaning <a class=\"anchor\" id=\"Data_Cleaning\">\n",
    "\n",
    "As mentioned we will remove the gross margin percentage.\n",
    "Another step that we can take is to remove the column Branch, because it has the same information as column City.\n",
    "Lastly we can drop Tax 5% because we have the same information on the column gross income"
   ]
  },
  {
   "cell_type": "code",
   "execution_count": 6,
   "id": "4947345a",
   "metadata": {},
   "outputs": [],
   "source": [
    "df1 = df.drop(columns=[\"gross margin percentage\", \"Branch\",\"Tax 5%\"])\n",
    "df1.head()"
   ]
  },
  {
   "cell_type": "markdown",
   "id": "fe062d84",
   "metadata": {},
   "source": [
    "### Exploratory Data Analysis <a class=\"anchor\" id=\"Exploratory_Analysis\">\n",
    "    \n",
    "We are going to try a couple of hypothesis.\n",
    "    \n",
    "    - Which of the branches has more sales?\n",
    "    - Which customer type buys the most? and how do they fare against each other?\n",
    "    - Who buys more? Men or women? Is it the same on all the branches?\n",
    "    - Which category sells the most?\n",
    "    - What is the average price of a unit?\n",
    "    - Do we have more purchases with large quantities or small ones.\n",
    "    - How do the total sales per day and week look like? Can we infer any patterns?\n",
    "    - What payment method is used the most? How much money is being paid with that method?\n",
    "    - Is the rating correlated with the total amount spent?"
   ]
  },
  {
   "cell_type": "markdown",
   "id": "02ea1569",
   "metadata": {},
   "source": [
    "##### Which of the branches has more sales?\n"
   ]
  },
  {
   "cell_type": "code",
   "execution_count": 7,
   "id": "ce91ff48",
   "metadata": {},
   "outputs": [],
   "source": [
    "df[\"Total\"].groupby(df.City).sum()"
   ]
  },
  {
   "cell_type": "markdown",
   "id": "de810c23",
   "metadata": {},
   "source": [
    "They all seem to have almost the same amount of money generated. We can mention that there is a good management going on."
   ]
  },
  {
   "cell_type": "markdown",
   "id": "42aed7b5",
   "metadata": {},
   "source": [
    "##### Which customer type buys the most? and how do they fare against each other?"
   ]
  },
  {
   "cell_type": "code",
   "execution_count": 8,
   "id": "ed7369ba",
   "metadata": {},
   "outputs": [],
   "source": [
    "df[\"Total\"].groupby(df[\"Customer type\"]).sum()"
   ]
  },
  {
   "cell_type": "code",
   "execution_count": 9,
   "id": "cdd8373b",
   "metadata": {},
   "outputs": [],
   "source": [
    "%matplotlib inline\n",
    "plt.figure()\n",
    "grouped_df = df.groupby(\"Customer type\")[\"Total\"].sum().reset_index()\n",
    "\n",
    "plt.bar(grouped_df[\"Customer type\"], grouped_df[\"Total\"])\n",
    "plt.show()"
   ]
  },
  {
   "cell_type": "code",
   "execution_count": 10,
   "id": "f21d6b50",
   "metadata": {},
   "outputs": [],
   "source": [
    "sns.boxplot(x=\"Customer type\", y='Total', data=df, palette='Accent')\n",
    "plt.xlabel('Customer type')\n",
    "plt.ylabel('Total amount spent per customer')\n",
    "plt.title('Individual Transactions by Member type')\n",
    "plt.show()"
   ]
  },
  {
   "cell_type": "code",
   "execution_count": 11,
   "id": "df78c9ab",
   "metadata": {},
   "outputs": [],
   "source": [
    "df[\"Customer type\"].value_counts()"
   ]
  },
  {
   "cell_type": "markdown",
   "id": "81f027e5",
   "metadata": {},
   "source": [
    "The data is very similar. We do not have anything that differentiates them. This by itself is something bad. The members probably pay a certain amount for the membership, however they spent the same as the normal client. This might indicate that they do not have enough incentives to buy more products. Something that could solve this is special deals for members-only."
   ]
  },
  {
   "cell_type": "markdown",
   "id": "50d97ad7",
   "metadata": {},
   "source": [
    "##### Who buys more? Men or women? Is it the same on all the branches?"
   ]
  },
  {
   "cell_type": "code",
   "execution_count": 12,
   "id": "4526c100",
   "metadata": {},
   "outputs": [],
   "source": [
    "df.Total.groupby(df.Gender).sum()"
   ]
  },
  {
   "cell_type": "code",
   "execution_count": 13,
   "id": "067ed1b6",
   "metadata": {},
   "outputs": [],
   "source": [
    "df.Gender.value_counts()"
   ]
  },
  {
   "cell_type": "code",
   "execution_count": 14,
   "id": "be7a070e",
   "metadata": {},
   "outputs": [],
   "source": [
    "gender = df.groupby(['Gender','City'])['Total'].sum().reset_index()\n",
    "gender"
   ]
  },
  {
   "cell_type": "markdown",
   "id": "1bfd9283",
   "metadata": {},
   "source": [
    "This data seems promising. Let's make a graph out of it."
   ]
  },
  {
   "cell_type": "code",
   "execution_count": 15,
   "id": "872669e1",
   "metadata": {},
   "outputs": [],
   "source": [
    "plt.figure(figsize=(10,6))\n",
    "ax = sns.barplot(x='City', y='Total', hue='Gender', data=gender)\n",
    "plt.xlabel('City')\n",
    "plt.ylabel('Total')\n",
    "plt.legend(title='Gender')\n",
    "plt.title('Total Sales by Gender in each City')\n",
    "# Add total labels on top of bars\n",
    "for p in ax.patches:\n",
    "    ax.annotate(format(p.get_height(), '.0f'), \n",
    "                (p.get_x() + p.get_width() / 2., p.get_height()), \n",
    "                ha = 'center', va = 'center', \n",
    "                xytext = (0, 9), \n",
    "                textcoords = 'offset points')\n",
    "plt.axis([-1,3,0,70000]) # Zooming out because of the legend\n",
    "plt.show()"
   ]
  },
  {
   "cell_type": "markdown",
   "id": "f1d1c3ce",
   "metadata": {},
   "source": [
    "We notice that on Naypytaw, Females spend a lot more money than Males. This can be an indicator to put more Female related products, and focus a bit more on women."
   ]
  },
  {
   "cell_type": "markdown",
   "id": "c6e79cde",
   "metadata": {},
   "source": [
    "### Which category sells the most?"
   ]
  },
  {
   "cell_type": "code",
   "execution_count": 16,
   "id": "71994844",
   "metadata": {},
   "outputs": [],
   "source": [
    "# How many products we have per category?\n",
    "\n",
    "df['Product line'].value_counts()"
   ]
  },
  {
   "cell_type": "code",
   "execution_count": 17,
   "id": "0195ffeb",
   "metadata": {},
   "outputs": [],
   "source": [
    "df.Total.groupby(df['Product line']).sum().sort_values(ascending=False)"
   ]
  },
  {
   "cell_type": "markdown",
   "id": "b19b79f5",
   "metadata": {},
   "source": [
    "We notice that most of the categories are in the same range. It would be a nice question on why Health and Beauty are last."
   ]
  },
  {
   "cell_type": "markdown",
   "id": "1b5134a8",
   "metadata": {},
   "source": [
    "#### What is the average price of a unit? Where do their prices fall?\n",
    "\n",
    "I want to create a new column called Unit price range. There we will distribute the unit prices to 4 categories:\n",
    "\n",
    "    - From 0 to 20 they will be called \"Low Price\"\n",
    "    - From 21 to 50 they will be called \"Medium Price\"\n",
    "    - From 51 to 100 they will be called \"High Price\""
   ]
  },
  {
   "cell_type": "code",
   "execution_count": 18,
   "id": "211026d1",
   "metadata": {},
   "outputs": [],
   "source": [
    "def categorize_price(price):\n",
    "    if price >= 0 and price < 21:\n",
    "        return \"Low price\"\n",
    "    elif price >= 21 and price < 51:\n",
    "        return \"Medium price\"\n",
    "    else:\n",
    "        return \"High price\"\n",
    "\n",
    "df['Unit price range'] = df['Unit price'].apply(categorize_price)\n",
    "df.head()"
   ]
  },
  {
   "cell_type": "markdown",
   "id": "2bb99321",
   "metadata": {},
   "source": [
    "Let's check how many products we have in each unit price range"
   ]
  },
  {
   "cell_type": "code",
   "execution_count": 19,
   "id": "77cb07d3",
   "metadata": {},
   "outputs": [],
   "source": [
    "df['Unit price range'].value_counts()"
   ]
  },
  {
   "cell_type": "code",
   "execution_count": 20,
   "id": "088d7c78",
   "metadata": {},
   "outputs": [],
   "source": [
    "sns.set_palette(\"Set2\")\n",
    "sns.barplot(x=df['Unit price range'].value_counts().index, y = df['Unit price range'].value_counts().values)\n",
    "plt.xlabel(\"Unit Price Range\")\n",
    "plt.ylabel(\"Product Amount\")\n",
    "plt.title(\"Amount of Products distributed in Price Ranges\")\n",
    "\n",
    "text = \"High price is 51 till 100\\nMedium price is 21 to 50\\nLow price is 0 to 20\"\n",
    "plt.text(0.95, 0.95, text, transform=plt.gca().transAxes, ha='right', va='top', fontsize=13)"
   ]
  },
  {
   "cell_type": "markdown",
   "id": "c8c98c06",
   "metadata": {},
   "source": [
    "Surprisingly most of our products fall under high price range. A point worth investigating is, if any of the stores have a higher ammount of high priced products. Does the Total income for that store decrease?"
   ]
  },
  {
   "cell_type": "markdown",
   "id": "8fe0d0a9",
   "metadata": {},
   "source": [
    "#### Do we have more purchases with large quantities or small ones."
   ]
  },
  {
   "cell_type": "markdown",
   "id": "2bc2aeaf",
   "metadata": {},
   "source": [
    "Let's do the same as above. We can create a new column called Quantity range. It will be a distribution for 4 categories:\n",
    "\n",
    "    - From 0 to 3 they will be called \"Low Quantity\"\n",
    "    - From 4 to 6 they will be called \"Medium Quantity\"\n",
    "    - From 7 to 10 they will be called \"High Quantity\""
   ]
  },
  {
   "cell_type": "code",
   "execution_count": 21,
   "id": "b76d08cd",
   "metadata": {},
   "outputs": [],
   "source": [
    "def categorize_price(price):\n",
    "    if price >= 0 and price < 4:\n",
    "        return \"Low quantity\"\n",
    "    elif price >= 4 and price < 7:\n",
    "        return \"Medium quantity\"\n",
    "    else:\n",
    "        return \"High quantity\"\n",
    "\n",
    "df['Quantity range'] = df['Quantity'].apply(categorize_price)\n",
    "df.head()"
   ]
  },
  {
   "cell_type": "code",
   "execution_count": 22,
   "id": "664744ad",
   "metadata": {},
   "outputs": [],
   "source": [
    "sns.barplot(y=df['Quantity range'].value_counts().values, x=df['Quantity range'].value_counts().index)"
   ]
  },
  {
   "cell_type": "markdown",
   "id": "598079a4",
   "metadata": {},
   "source": [
    "Most of the transaction are those with high quantity. It would be worth to a/b test some theories on it. For example what if we provide a discount when clients buy high quantities? Will we have an increase in demand?"
   ]
  },
  {
   "cell_type": "code",
   "execution_count": 23,
   "id": "773d0e21",
   "metadata": {},
   "outputs": [],
   "source": [
    "df.groupby(['Quantity range'])['Total'].sum()"
   ]
  },
  {
   "cell_type": "code",
   "execution_count": 24,
   "id": "63707f23",
   "metadata": {},
   "outputs": [],
   "source": [
    "plt.pie(df.groupby(['Quantity range'])['Total'].sum().sort_values(ascending=False), labels=df['Quantity range'].value_counts().index, autopct='%1.1f%%')\n",
    "# plt.legends(df['Quantity range'].unique)"
   ]
  },
  {
   "cell_type": "markdown",
   "id": "77455784",
   "metadata": {},
   "source": [
    "These are some amazing results. Most of the income comes from the high quantity transactions. The company can either continue to develop their marketing and sales on high quantity or try to increase their sales for low and medium quantity transactions."
   ]
  },
  {
   "cell_type": "markdown",
   "id": "392386a7",
   "metadata": {},
   "source": [
    "#### How do the total sales per day look like? Can we infer any patterns?\n",
    "\n",
    "There are a lot of things that we can search for when we are dealing with time. For now we are going to explore only some basic questions:\n",
    "    \n",
    "    - What is the total Revenue by Month?\n",
    "    - What is the Revenue for the 7 days of the week?\n",
    "    - Is there any pattern on the daily revenue? What about weekly?"
   ]
  },
  {
   "cell_type": "code",
   "execution_count": 25,
   "id": "d8256a22",
   "metadata": {},
   "outputs": [],
   "source": [
    "df.head()"
   ]
  },
  {
   "cell_type": "code",
   "execution_count": 26,
   "id": "4416a808",
   "metadata": {},
   "outputs": [],
   "source": [
    "monthly_totals = df.groupby(df['Datetime'].dt.month)['Total'].sum()\n",
    "\n",
    "# Plot the total sum for each month using a bar plot\n",
    "ax = plt.subplot()\n",
    "# plt.figure(figsize=(10, 6))\n",
    "plt.bar(monthly_totals.index, monthly_totals)\n",
    "\n",
    "plt.xlabel(\"Months\")\n",
    "plt.ylabel(\"Revenue\")\n",
    "plt.title(\"Total Revenue by Month\")\n",
    "# plt.xticks(monthly_totals.index, calendar.month_name[1:], rotation=45)\n",
    "ax.set_xticks([1,2,3])\n",
    "ax.set_xticklabels([\"January\",\"February\", \"March\"], rotation=35)\n",
    "for p in ax.patches:\n",
    "    ax.annotate(format(p.get_height(), '.0f'), \n",
    "                (p.get_x() + p.get_width() / 2., p.get_height()), \n",
    "                ha = 'center', va = 'center', \n",
    "                xytext = (0, 9), \n",
    "                textcoords = 'offset points')\n",
    "\n",
    "plt.axis([0,4,0,130000])\n",
    "\n",
    "plt.show()"
   ]
  },
  {
   "cell_type": "markdown",
   "id": "ad92360c",
   "metadata": {},
   "source": [
    "We notice that a lot of Revenue was made on January, probably because of the new years festives. Then we have a dive on February, it can be attributed to their overspending on January. And finally on March it increases again. A good idea would be to lower slightly the prices on February, in order to get more costumers and sales."
   ]
  },
  {
   "cell_type": "code",
   "execution_count": null,
   "id": "5286a65a",
   "metadata": {},
   "outputs": [],
   "source": [
    "# Group the data by day of the week and calculate the total sum\n",
    "daily_totals = df.groupby(df['Datetime'].dt.dayofweek)['Total'].sum()\n",
    "\n",
    "# Create a line plot for the total sum for each day of the week\n",
    "plt.figure(figsize=(10, 6))\n",
    "plt.plot(daily_totals.index, daily_totals, marker='o')\n",
    "\n",
    "plt.xlabel(\"Day of the Week\")\n",
    "plt.ylabel(\"Total Sum\")\n",
    "plt.title(\"Total Revenue by Day of the Week\")\n",
    "plt.xticks(daily_totals.index, calendar.day_name, rotation=45)\n",
    "\n",
    "plt.show()"
   ]
  },
  {
   "cell_type": "code",
   "execution_count": null,
   "id": "f8d9b46a",
   "metadata": {},
   "outputs": [],
   "source": [
    "# Set 'Datetime' as the index\n",
    "df.set_index(\"Datetime\", inplace=True)\n",
    "\n",
    "# Calculate the total sum for each day\n",
    "daily_totals = df.resample('D')['Total'].sum()\n",
    "\n",
    "# Create a line plot for the total sum for each day\n",
    "plt.figure(figsize=(10, 6))\n",
    "plt.plot(daily_totals.index, daily_totals, marker='o')\n",
    "\n",
    "plt.xlabel(\"Date\")\n",
    "plt.ylabel(\"Total Sum\")\n",
    "plt.title(\"Total Revenue by Date\")\n",
    "plt.xticks(rotation=45)\n",
    "\n",
    "plt.show()"
   ]
  },
  {
   "cell_type": "code",
   "execution_count": null,
   "id": "a4e36ff0",
   "metadata": {},
   "outputs": [],
   "source": [
    "# ! pip install mplcursors\n",
    "import mplcursors\n",
    "# Calculate the total sum for each week\n",
    "daily_totals = df.resample('W')['Total'].sum()\n",
    "\n",
    "# Create a line plot for the total sum for each week\n",
    "plt.figure(figsize=(10, 6))\n",
    "plt.plot(daily_totals.index, daily_totals, marker='o')\n",
    "\n",
    "plt.xlabel(\"Date\")\n",
    "plt.ylabel(\"Total Sum\")\n",
    "plt.title(\"Total Revenue by Date\")\n",
    "plt.xticks(rotation=45)\n",
    "cursor = mplcursors.cursor()\n",
    "cursor.connect(\n",
    "    \"add\", lambda sel: sel.annotation.set_text(f\"{sel.target[0].date():%d-%b-%Y}\\nTotal: {sel.target[1]}\")\n",
    ")\n",
    "plt.show()"
   ]
  },
  {
   "cell_type": "markdown",
   "id": "563f4fac",
   "metadata": {},
   "source": [
    "#### What payment method is used the most? How much money is being paid with that method?\n",
    "\n",
    "We are going to check: \n",
    "    \n",
    "    - The total amount spent on each payement method\n",
    "    - Which method is used the most?"
   ]
  },
  {
   "cell_type": "code",
   "execution_count": null,
   "id": "bdb211eb",
   "metadata": {},
   "outputs": [],
   "source": []
  },
  {
   "cell_type": "code",
   "execution_count": null,
   "id": "078b0622",
   "metadata": {},
   "outputs": [],
   "source": []
  },
  {
   "cell_type": "code",
   "execution_count": null,
   "id": "83a5ebf8",
   "metadata": {},
   "outputs": [],
   "source": []
  },
  {
   "cell_type": "markdown",
   "id": "f17374fa",
   "metadata": {},
   "source": [
    "- Why do we have more Women buying things on Naypytaw? Is it because we have more female products there? Such as fashion accessories, Health and beauty products?\n",
    "- Why does the category health and beauty earns less income than the rest of categories? Is it because their price?\n",
    "- "
   ]
  }
 ],
 "metadata": {
  "kernelspec": {
   "display_name": "Python 3 (ipykernel)",
   "language": "python",
   "name": "python3"
  },
  "language_info": {
   "codemirror_mode": {
    "name": "ipython",
    "version": 3
   },
   "file_extension": ".py",
   "mimetype": "text/x-python",
   "name": "python",
   "nbconvert_exporter": "python",
   "pygments_lexer": "ipython3",
   "version": "3.11.3"
  }
 },
 "nbformat": 4,
 "nbformat_minor": 5
}
