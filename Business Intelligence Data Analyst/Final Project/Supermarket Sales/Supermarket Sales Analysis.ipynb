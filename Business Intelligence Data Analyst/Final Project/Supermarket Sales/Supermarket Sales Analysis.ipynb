{
 "cells": [
  {
   "cell_type": "markdown",
   "id": "624fdd24",
   "metadata": {},
   "source": [
    "### Table of Contents\n",
    "\n",
    "* [Goals](#Goals)\n",
    "* [Data](#Data)\n",
    "    * [Data context](#data_context)\n",
    "    * [Loading the Data](#loading_data)\n",
    "    * [Data Information](#data_information)\n",
    "- [Data Cleaning](#Data_Cleaning)\n",
    "- [Exploratory Data Analysis](#Exploratory_Analysis)"
   ]
  },
  {
   "cell_type": "markdown",
   "id": "afeb476c",
   "metadata": {},
   "source": [
    "### Goals <a class=\"anchor\" id=\"Goals\">\n",
    "\n",
    "This notebook contains an analysis on Supermarket Sales data. The goal for this project is to do the following:\n",
    "    \n",
    "    - Get acquinted with the data\n",
    "    - Clean the data so it is ready for analysis\n",
    "    - Develop questions for analysis\n",
    "    - Analyze variables within the data to gain patterns and insights"
   ]
  },
  {
   "cell_type": "markdown",
   "id": "a71de2ee",
   "metadata": {},
   "source": [
    "### Data <a class=\"anchor\" id=\"Data\">\n",
    "\n",
    "The data for this project was downloaded from Kaggle:\n",
    "\n",
    "https://www.kaggle.com/datasets/aungpyaeap/supermarket-sales\n",
    "\n",
    "Some code inspiration for this analysis was sourced from "
   ]
  },
  {
   "cell_type": "markdown",
   "id": "c6c53545",
   "metadata": {},
   "source": [
    "#### Data Context <a class=\"anchor\" id=\"data_context\">\n",
    "\n",
    "The growth of supermarkets in most populated cities are increasing and market competitions are also high. The dataset is one of the historical sales of supermarket company which has recorded in 3 different branches for 3 months data. Predictive data analytics methods are easy to apply with this dataset.\n",
    "\n",
    "##### Attribute information\n",
    "    \n",
    "- Invoice id: Computer generated sales slip invoice identification number\n",
    "- Branch: Branch of supercenter (3 branches are available identified by A, B and C).\n",
    "- City: Location of supercenters\n",
    "- Customer type: Type of customers, recorded by Members for customers using member card and Normal for without member card.\n",
    "- Gender: Gender type of customer\n",
    "- Product line: General item categorization groups - Electronic accessories, Fashion accessories, Food and beverages, Health and -beauty, Home and lifestyle, Sports and travel\n",
    "- Unit price: Price of each product in $\n",
    "- Quantity: Number of products purchased by customer\n",
    "- Tax: 5% tax fee for customer buying\n",
    "- Total: Total price including tax\n",
    "- Date: Date of purchase (Record available from January 2019 to March 2019)\n",
    "- Time: Purchase time (10am to 9pm)\n",
    "- Payment: Payment used by customer for purchase (3 methods are available – Cash, Credit card and Ewallet)\n",
    "- COGS: Cost of goods sold\n",
    "- Gross margin percentage: Gross margin percentage\n",
    "- Gross income: Gross income\n",
    "- Rating: Customer stratification rating on their overall shopping experience (On a scale of 1 to 10)\n"
   ]
  },
  {
   "cell_type": "markdown",
   "id": "51b6d7a4",
   "metadata": {},
   "source": [
    "#### Loading Data <a class=\"anchor\" id=\"loading_data\">\n",
    "    \n",
    "First, we are loading the necessary libraries."
   ]
  },
  {
   "cell_type": "code",
   "execution_count": 1,
   "id": "ea14b48d",
   "metadata": {},
   "outputs": [],
   "source": [
    "# sets up matplotlib with interactive features\n",
    "%matplotlib notebook\n",
    "import pandas as pd\n",
    "import seaborn as sns\n",
    "import matplotlib.pyplot as plt\n",
    "import numpy as np"
   ]
  },
  {
   "cell_type": "code",
   "execution_count": 10,
   "id": "fb533a41",
   "metadata": {},
   "outputs": [],
   "source": [
    "df = pd.read_csv(r\"C:\\Users\\mateo\\OneDrive - CORE Education Trust\\Documents\\GitHub\\CodeCademy-Projects\\Business Intelligence Data Analyst\\Final Project\\Supermarket Sales\\supermarket_sales - Sheet1.csv\")\n",
    "\n",
    "# Having a first look at our data\n",
    "df.head()"
   ]
  },
  {
   "cell_type": "markdown",
   "id": "fbaf0cd3",
   "metadata": {},
   "source": [
    "#### Data Information <a class=\"anchor\" id=\"data_information\">\n",
    "\n",
    "To understand our data we need to go through some fundamental questions:\n",
    "    \n",
    "    - We are going to check how many columns and rows we have.\n",
    "    - The name and datatype of each column.\n",
    "    - If there are any missing values.\n",
    "    - If we should rename any of the column for better consistency.\n",
    "    - Basic summary statistics.\n",
    "    - If there are any duplicates."
   ]
  },
  {
   "cell_type": "code",
   "execution_count": 3,
   "id": "ceca25fc",
   "metadata": {},
   "outputs": [],
   "source": [
    "print(f\"There are {len(df.columns)} columns and {df.shape[0]} rows in our database.\\n\\n\")\n",
    "print(f\"The column names with their data types and their missing values\\n\")\n",
    "df.info()"
   ]
  },
  {
   "cell_type": "code",
   "execution_count": 4,
   "id": "e7411d17",
   "metadata": {},
   "outputs": [],
   "source": [
    "print(f\"Basic summary statistics\\n\")\n",
    "df.describe()\n"
   ]
  },
  {
   "cell_type": "markdown",
   "id": "1f2fda8d",
   "metadata": {},
   "source": [
    "We notice that gross margin percentage remains the same. We can drop it, since it doesn't provide any new information."
   ]
  },
  {
   "cell_type": "code",
   "execution_count": 5,
   "id": "61694bbf",
   "metadata": {},
   "outputs": [],
   "source": [
    "print(f\"There are {df.duplicated().sum()} duplicates.\")"
   ]
  },
  {
   "cell_type": "markdown",
   "id": "b98f5050",
   "metadata": {},
   "source": [
    "### Data Cleaning <a class=\"anchor\" id=\"Data_Cleaning\">\n",
    "\n",
    "As mentioned we will remove the gross margin percentage.\n",
    "Another step that we can take is to remove the column Branch, because it has the same information as column City.\n",
    "Lastly we can drop Tax 5% because we have the same information on the column gross income"
   ]
  },
  {
   "cell_type": "code",
   "execution_count": 6,
   "id": "c2427b7c",
   "metadata": {},
   "outputs": [],
   "source": [
    "df1 = df.drop(columns=[\"gross margin percentage\", \"Branch\",\"Tax 5%\"])\n",
    "df1.head()"
   ]
  },
  {
   "cell_type": "markdown",
   "id": "d02d3405",
   "metadata": {},
   "source": [
    "### Exploratory Data Analysis <a class=\"anchor\" id=\"Exploratory_Analysis\">\n",
    "    \n",
    "We are going to try a couple of hypothesis.\n",
    "    \n",
    "    - Which of the branches has more sales?\n",
    "    - Which customer type buys the most? and how do they fare against each other?\n",
    "    - Who buys more? Men or women? Is it the same on all the branches?\n",
    "    - Which category sells the most?\n",
    "    - What is the average price of a unit?\n",
    "    - Do we have more purchases with large quantities or small ones. Is that the same on all the branches?\n",
    "    - What is the average of the total per academy.\n",
    "    - How is the distribution of the Total? Do we have a lot of outliers?\n",
    "    - How do the total sales per day look like? Can we infer any patterns?\n",
    "    - Same with the time. Can we see any patterns where we have more sells?\n",
    "    - What payment method is used the most? How much money is being paid with that method?\n",
    "    - Is the rating correlated with the total ammount spend?"
   ]
  },
  {
   "cell_type": "markdown",
   "id": "5acb81d1",
   "metadata": {},
   "source": [
    "##### Which of the branches has more sales?\n"
   ]
  },
  {
   "cell_type": "code",
   "execution_count": 7,
   "id": "39c6b936",
   "metadata": {},
   "outputs": [],
   "source": [
    "df[\"Total\"].groupby(df.City).sum()"
   ]
  },
  {
   "cell_type": "markdown",
   "id": "8bee6b69",
   "metadata": {},
   "source": [
    "They all seem to have almost the same amount of money generated. We can mention that there is a good management going on."
   ]
  },
  {
   "cell_type": "markdown",
   "id": "acf529ad",
   "metadata": {},
   "source": [
    "##### Which customer type buys the most? and how do they fare against each other?"
   ]
  },
  {
   "cell_type": "code",
   "execution_count": 8,
   "id": "bb9f8caf",
   "metadata": {},
   "outputs": [],
   "source": [
    "df[\"Total\"].groupby(df[\"Customer type\"]).sum()"
   ]
  },
  {
   "cell_type": "code",
   "execution_count": 9,
   "id": "35a8e149",
   "metadata": {},
   "outputs": [],
   "source": [
    "%matplotlib inline\n",
    "plt.figure()\n",
    "grouped_df = df.groupby(\"Customer type\")[\"Total\"].sum().reset_index()\n",
    "\n",
    "plt.bar(grouped_df[\"Customer type\"], grouped_df[\"Total\"])\n",
    "plt.show()"
   ]
  },
  {
   "cell_type": "markdown",
   "id": "dc0dd340",
   "metadata": {},
   "source": [
    "##### Who buys more? Men or women? Is it the same on all the branches?"
   ]
  },
  {
   "cell_type": "code",
   "execution_count": null,
   "id": "ba0f936c",
   "metadata": {},
   "outputs": [],
   "source": []
  }
 ],
 "metadata": {
  "kernelspec": {
   "display_name": "Python 3 (ipykernel)",
   "language": "python",
   "name": "python3"
  },
  "language_info": {
   "codemirror_mode": {
    "name": "ipython",
    "version": 3
   },
   "file_extension": ".py",
   "mimetype": "text/x-python",
   "name": "python",
   "nbconvert_exporter": "python",
   "pygments_lexer": "ipython3",
   "version": "3.11.3"
  }
 },
 "nbformat": 4,
 "nbformat_minor": 5
}
